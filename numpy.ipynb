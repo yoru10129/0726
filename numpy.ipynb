{
 "cells": [
  {
   "cell_type": "code",
   "execution_count": 5,
   "id": "7ca8be20",
   "metadata": {},
   "outputs": [
    {
     "name": "stdout",
     "output_type": "stream",
     "text": [
      "Requirement already satisfied: numpy in c:\\users\\tku-staff\\anaconda3\\lib\\site-packages (1.20.3)\n",
      "Note: you may need to restart the kernel to use updated packages.\n"
     ]
    }
   ],
   "source": [
    "pip install numpy"
   ]
  },
  {
   "cell_type": "code",
   "execution_count": 6,
   "id": "fb278931",
   "metadata": {},
   "outputs": [
    {
     "name": "stdout",
     "output_type": "stream",
     "text": [
      "[1 2 3 4]\n",
      "[5 6 7 8]\n",
      "<class 'numpy.ndarray'> <class 'numpy.ndarray'>\n"
     ]
    }
   ],
   "source": [
    "import numpy as np\n",
    "\n",
    "np1=np.array([1,2,3,4])\n",
    "\n",
    "np2=np.array((5,6,7,8))\n",
    "\n",
    "print(np1)\n",
    "print(np2)\n",
    "print(type(np1),type(np2))"
   ]
  },
  {
   "cell_type": "code",
   "execution_count": 7,
   "id": "b43e7554",
   "metadata": {},
   "outputs": [
    {
     "name": "stdout",
     "output_type": "stream",
     "text": [
      "[ 0  2  4  6  8 10 12 14 16 18 20 22 24 26 28 30]\n"
     ]
    }
   ],
   "source": [
    "np3=np.arange(0,31,2)\n",
    "print(np3)"
   ]
  },
  {
   "cell_type": "code",
   "execution_count": 8,
   "id": "b3837f3f",
   "metadata": {},
   "outputs": [
    {
     "name": "stdout",
     "output_type": "stream",
     "text": [
      "[ 1.  8. 15.]\n"
     ]
    }
   ],
   "source": [
    "np4=np.linspace(1,15,3)\n",
    "print(np4)"
   ]
  },
  {
   "cell_type": "code",
   "execution_count": 9,
   "id": "f50aecac",
   "metadata": {},
   "outputs": [
    {
     "name": "stdout",
     "output_type": "stream",
     "text": [
      "[0. 0. 0. 0. 0.]\n"
     ]
    }
   ],
   "source": [
    "np5=np.zeros((5,))\n",
    "print(np5)"
   ]
  },
  {
   "cell_type": "code",
   "execution_count": 10,
   "id": "693a70c4",
   "metadata": {},
   "outputs": [
    {
     "name": "stdout",
     "output_type": "stream",
     "text": [
      "[1. 1. 1. 1. 1.]\n"
     ]
    }
   ],
   "source": [
    "np6=np.ones((5,))\n",
    "print(np6)"
   ]
  },
  {
   "cell_type": "code",
   "execution_count": 11,
   "id": "924dc332",
   "metadata": {},
   "outputs": [
    {
     "name": "stdout",
     "output_type": "stream",
     "text": [
      "[[1. 1.]\n",
      " [1. 1.]\n",
      " [1. 1.]\n",
      " [1. 1.]\n",
      " [1. 1.]]\n"
     ]
    }
   ],
   "source": [
    "np7=np.ones((5,2))\n",
    "print(np7)"
   ]
  },
  {
   "cell_type": "code",
   "execution_count": 13,
   "id": "2a1228ab",
   "metadata": {},
   "outputs": [
    {
     "name": "stdout",
     "output_type": "stream",
     "text": [
      "[[ 1  2  3  4  5]\n",
      " [ 6  7  8  9 10]]\n",
      "維度 2\n",
      "形狀 (2, 5)\n",
      "數量 10\n"
     ]
    }
   ],
   "source": [
    "listdata=[[1,2,3,4,5],[6,7,8,9,10]]\n",
    "\n",
    "np8=np.array(listdata)\n",
    "print(np8)\n",
    "print('維度', np8.ndim)\n",
    "print('形狀', np8.shape)\n",
    "print('數量', np8.size)"
   ]
  },
  {
   "cell_type": "code",
   "execution_count": 14,
   "id": "262e3789",
   "metadata": {},
   "outputs": [
    {
     "name": "stdout",
     "output_type": "stream",
     "text": [
      "[ 1  2  3  4  5  6  7  8  9 10 11 12 13 14 15 16 17 18 19 20]\n",
      "[[ 1  2  3  4  5]\n",
      " [ 6  7  8  9 10]\n",
      " [11 12 13 14 15]\n",
      " [16 17 18 19 20]]\n"
     ]
    }
   ],
   "source": [
    "np9=np.arange(1,21)\n",
    "print(np9)\n",
    "\n",
    "np10=np9.reshape(4,5)\n",
    "print(np10)"
   ]
  },
  {
   "cell_type": "code",
   "execution_count": 15,
   "id": "c621a02c",
   "metadata": {},
   "outputs": [
    {
     "name": "stdout",
     "output_type": "stream",
     "text": [
      "[0 1 2 3 4 5 6 7 8]\n"
     ]
    }
   ],
   "source": [
    "np10=np.arange(0,9)\n",
    "\n",
    "print(np10)"
   ]
  },
  {
   "cell_type": "code",
   "execution_count": 16,
   "id": "6c6bc312",
   "metadata": {},
   "outputs": [
    {
     "name": "stdout",
     "output_type": "stream",
     "text": [
      "0\n"
     ]
    }
   ],
   "source": [
    "print(np10[0])"
   ]
  },
  {
   "cell_type": "code",
   "execution_count": 17,
   "id": "a67fea4a",
   "metadata": {},
   "outputs": [
    {
     "name": "stdout",
     "output_type": "stream",
     "text": [
      "8\n"
     ]
    }
   ],
   "source": [
    "print(np10[8])"
   ]
  },
  {
   "cell_type": "code",
   "execution_count": 18,
   "id": "30556733",
   "metadata": {},
   "outputs": [
    {
     "name": "stdout",
     "output_type": "stream",
     "text": [
      "[1 2 3 4 5 6 7]\n"
     ]
    }
   ],
   "source": [
    "print(np10[1:8])"
   ]
  },
  {
   "cell_type": "code",
   "execution_count": 19,
   "id": "9ca501af",
   "metadata": {},
   "outputs": [
    {
     "name": "stdout",
     "output_type": "stream",
     "text": [
      "[1 3 5 7]\n"
     ]
    }
   ],
   "source": [
    "print(np10[1:8:2])"
   ]
  },
  {
   "cell_type": "code",
   "execution_count": 20,
   "id": "44289a47",
   "metadata": {},
   "outputs": [
    {
     "name": "stdout",
     "output_type": "stream",
     "text": [
      "[8 7 6 5 4 3 2]\n"
     ]
    }
   ],
   "source": [
    "print(np10[8:1:-1])"
   ]
  },
  {
   "cell_type": "code",
   "execution_count": 21,
   "id": "9ae8367c",
   "metadata": {},
   "outputs": [
    {
     "name": "stdout",
     "output_type": "stream",
     "text": [
      "[0 1 2 3 4 5 6 7 8]\n"
     ]
    }
   ],
   "source": [
    "print(np10[:])"
   ]
  },
  {
   "cell_type": "code",
   "execution_count": 22,
   "id": "f19c63f9",
   "metadata": {},
   "outputs": [
    {
     "name": "stdout",
     "output_type": "stream",
     "text": [
      "[0 1 2 3]\n"
     ]
    }
   ],
   "source": [
    "print(np10[:4])"
   ]
  },
  {
   "cell_type": "code",
   "execution_count": 23,
   "id": "a91e5ca4",
   "metadata": {},
   "outputs": [
    {
     "name": "stdout",
     "output_type": "stream",
     "text": [
      "[4 5 6 7 8]\n"
     ]
    }
   ],
   "source": [
    "print(np10[4:])"
   ]
  },
  {
   "cell_type": "code",
   "execution_count": 24,
   "id": "6376d4b7",
   "metadata": {},
   "outputs": [
    {
     "name": "stdout",
     "output_type": "stream",
     "text": [
      "[ 7 11]\n",
      "[[ 6  7]\n",
      " [10 11]]\n",
      "[[ 1  3]\n",
      " [ 9 11]\n",
      " [17 19]]\n",
      "[ 3  7 11 15 19]\n",
      "[5 6 7 8]\n",
      "[[ 1  2  3  4]\n",
      " [ 5  6  7  8]\n",
      " [ 9 10 11 12]\n",
      " [13 14 15 16]\n",
      " [17 18 19 20]]\n"
     ]
    }
   ],
   "source": [
    "np11 = np.arange(1, 21).reshape(5, 4)\n",
    "np11\n",
    "np11[0,2]\n",
    "np11[1, 2]\n",
    "print(np11[1:3, 2])\n",
    "print(np11[1:3, 1:3])\n",
    "print(np11[::2, ::2])\n",
    "print(np11[:,2])\n",
    "print(np11[1,:])\n",
    "print(np11[:, :])"
   ]
  },
  {
   "cell_type": "code",
   "execution_count": 26,
   "id": "8dd07231",
   "metadata": {},
   "outputs": [
    {
     "name": "stdout",
     "output_type": "stream",
     "text": [
      "(30, 4)\n"
     ]
    },
    {
     "data": {
      "text/plain": [
       "array([[ 1., 87., 85., 82.],\n",
       "       [ 2., 92., 87., 90.],\n",
       "       [ 3., 80., 91., 87.],\n",
       "       [ 4., 78., 82., 95.],\n",
       "       [ 5., 88., 89., 90.],\n",
       "       [ 6., 82., 87., 88.],\n",
       "       [ 7., 90., 92., 82.],\n",
       "       [ 8., 87., 80., 90.],\n",
       "       [ 9., 95., 78., 87.],\n",
       "       [10., 90., 88., 95.],\n",
       "       [11., 88., 89., 75.],\n",
       "       [12., 82., 91., 66.],\n",
       "       [13., 90., 82., 87.],\n",
       "       [14., 87., 89., 92.],\n",
       "       [15., 95., 87., 80.],\n",
       "       [16., 90., 92., 78.],\n",
       "       [17., 82., 80., 88.],\n",
       "       [18., 90., 78., 93.],\n",
       "       [19., 67., 87., 95.],\n",
       "       [20., 91., 82., 88.],\n",
       "       [21., 82., 81., 82.],\n",
       "       [22., 79., 87., 90.],\n",
       "       [23., 87., 92., 87.],\n",
       "       [24., 92., 82., 95.],\n",
       "       [25., 80., 90., 78.],\n",
       "       [26., 78., 76., 91.],\n",
       "       [27., 66., 90., 82.],\n",
       "       [28., 89., 77., 89.],\n",
       "       [29., 87., 95., 87.],\n",
       "       [30., 73., 90., 92.]])"
      ]
     },
     "execution_count": 26,
     "metadata": {},
     "output_type": "execute_result"
    }
   ],
   "source": [
    "np12 = np.genfromtxt('scores.csv', delimiter=',', skip_header=1)\n",
    "print(np12.shape)\n",
    "np12"
   ]
  },
  {
   "cell_type": "code",
   "execution_count": 27,
   "id": "088c2f27",
   "metadata": {},
   "outputs": [
    {
     "name": "stdout",
     "output_type": "stream",
     "text": [
      "1.產生2x3 0~1之間的隨機浮點數\n",
      " [[0.26629049 0.54726164 0.40778144]\n",
      " [0.27548847 0.72590736 0.50045634]]\n"
     ]
    }
   ],
   "source": [
    "print ('1.產生2x3 0~1之間的隨機浮點數\\n',  np.random.rand(2,3))"
   ]
  },
  {
   "cell_type": "code",
   "execution_count": 28,
   "id": "4ee5da84",
   "metadata": {},
   "outputs": [
    {
     "name": "stdout",
     "output_type": "stream",
     "text": [
      "2.產生2×3常態分布的隨機浮點數\n",
      " [[ 2.17939921 -0.40655092 -1.4387848 ]\n",
      " [-1.55891136  0.06926751 -0.22484976]]\n"
     ]
    }
   ],
   "source": [
    "print('2.產生2×3常態分布的隨機浮點數\\n', np.random.randn(2,3))"
   ]
  },
  {
   "cell_type": "code",
   "execution_count": 29,
   "id": "ea0fd23f",
   "metadata": {},
   "outputs": [
    {
     "name": "stdout",
     "output_type": "stream",
     "text": [
      "3.產生0~4(不含5)隨機整數(75)\n",
      " 0\n"
     ]
    }
   ],
   "source": [
    "print('3.產生0~4(不含5)隨機整數(75)\\n',np.random.randint(5))"
   ]
  },
  {
   "cell_type": "code",
   "execution_count": 30,
   "id": "04a5f355",
   "metadata": {},
   "outputs": [
    {
     "name": "stdout",
     "output_type": "stream",
     "text": [
      "4.產生2~4(不含5)5個隨機整數\n",
      " [2 4 3 2 2]\n"
     ]
    }
   ],
   "source": [
    "print('4.產生2~4(不含5)5個隨機整數\\n', np.random.randint(2,5,[5]))"
   ]
  },
  {
   "cell_type": "code",
   "execution_count": 31,
   "id": "8489dc17",
   "metadata": {},
   "outputs": [
    {
     "name": "stdout",
     "output_type": "stream",
     "text": [
      "5.產生3個 0~1之間的隨機浮點數\n",
      " [0.32928182 0.75403947 0.81033516] \n",
      " [0.94354724 0.16272977 0.4846906 ] \n",
      " [0.67858786 0.49861085 0.75008561]\n"
     ]
    }
   ],
   "source": [
    "print('5.產生3個 0~1之間的隨機浮點數\\n',np.random.random(3), '\\n',\n",
    "np.random.random_sample(3), '\\n',\n",
    "np.random.sample(3))"
   ]
  },
  {
   "cell_type": "code",
   "execution_count": null,
   "id": "92be2d7c",
   "metadata": {},
   "outputs": [],
   "source": []
  }
 ],
 "metadata": {
  "kernelspec": {
   "display_name": "Python 3 (ipykernel)",
   "language": "python",
   "name": "python3"
  },
  "language_info": {
   "codemirror_mode": {
    "name": "ipython",
    "version": 3
   },
   "file_extension": ".py",
   "mimetype": "text/x-python",
   "name": "python",
   "nbconvert_exporter": "python",
   "pygments_lexer": "ipython3",
   "version": "3.9.7"
  }
 },
 "nbformat": 4,
 "nbformat_minor": 5
}
