{
 "cells": [
  {
   "cell_type": "code",
   "execution_count": 1,
   "id": "8b8f31d9",
   "metadata": {},
   "outputs": [
    {
     "name": "stdout",
     "output_type": "stream",
     "text": [
      "Package                            Version\n",
      "---------------------------------- --------------------\n",
      "alabaster                          0.7.12\n",
      "anaconda-client                    1.9.0\n",
      "anaconda-navigator                 2.1.1\n",
      "anaconda-project                   0.10.1\n",
      "anyio                              2.2.0\n",
      "appdirs                            1.4.4\n",
      "argh                               0.26.2\n",
      "argon2-cffi                        20.1.0\n",
      "arrow                              0.13.1\n",
      "asn1crypto                         1.4.0\n",
      "astroid                            2.6.6\n",
      "astropy                            4.3.1\n",
      "async-generator                    1.10\n",
      "atomicwrites                       1.4.0\n",
      "attrs                              21.2.0\n",
      "autopep8                           1.5.7\n",
      "Babel                              2.9.1\n",
      "backcall                           0.2.0\n",
      "backports.functools-lru-cache      1.6.4\n",
      "backports.shutil-get-terminal-size 1.0.0\n",
      "backports.tempfile                 1.0\n",
      "backports.weakref                  1.0.post1\n",
      "bcrypt                             3.2.0\n",
      "beautifulsoup4                     4.10.0\n",
      "binaryornot                        0.4.4\n",
      "bitarray                           2.3.0\n",
      "bkcharts                           0.2\n",
      "black                              19.10b0\n",
      "bleach                             4.0.0\n",
      "bokeh                              2.4.1\n",
      "boto                               2.49.0\n",
      "Bottleneck                         1.3.2\n",
      "brotlipy                           0.7.0\n",
      "cached-property                    1.5.2\n",
      "certifi                            2021.10.8\n",
      "cffi                               1.14.6\n",
      "chardet                            4.0.0\n",
      "charset-normalizer                 2.0.4\n",
      "click                              8.0.3\n",
      "cloudpickle                        2.0.0\n",
      "clyent                             1.2.2\n",
      "colorama                           0.4.4\n",
      "comtypes                           1.1.10\n",
      "conda                              4.10.3\n",
      "conda-build                        3.21.6\n",
      "conda-content-trust                0+unknown\n",
      "conda-pack                         0.6.0\n",
      "conda-package-handling             1.7.3\n",
      "conda-repo-cli                     1.0.4\n",
      "conda-token                        0.3.0\n",
      "conda-verify                       3.4.2\n",
      "contextlib2                        0.6.0.post1\n",
      "cookiecutter                       1.7.2\n",
      "cryptography                       3.4.8\n",
      "cycler                             0.10.0\n",
      "Cython                             0.29.24\n",
      "cytoolz                            0.11.0\n",
      "daal4py                            2021.3.0\n",
      "dask                               2021.10.0\n",
      "debugpy                            1.4.1\n",
      "decorator                          5.1.0\n",
      "defusedxml                         0.7.1\n",
      "diff-match-patch                   20200713\n",
      "distributed                        2021.10.0\n",
      "docutils                           0.17.1\n",
      "entrypoints                        0.3\n",
      "et-xmlfile                         1.1.0\n",
      "fastcache                          1.1.0\n",
      "filelock                           3.3.1\n",
      "flake8                             3.9.2\n",
      "Flask                              1.1.2\n",
      "fonttools                          4.25.0\n",
      "fsspec                             2021.10.1\n",
      "future                             0.18.2\n",
      "gevent                             21.8.0\n",
      "glob2                              0.7\n",
      "greenlet                           1.1.1\n",
      "h5py                               3.2.1\n",
      "HeapDict                           1.0.1\n",
      "html5lib                           1.1\n",
      "idna                               3.2\n",
      "imagecodecs                        2021.8.26\n",
      "imageio                            2.9.0\n",
      "imagesize                          1.2.0\n",
      "importlib-metadata                 4.8.1\n",
      "inflection                         0.5.1\n",
      "iniconfig                          1.1.1\n",
      "intervaltree                       3.1.0\n",
      "ipykernel                          6.4.1\n",
      "ipython                            7.29.0\n",
      "ipython-genutils                   0.2.0\n",
      "ipywidgets                         7.6.5\n",
      "isort                              5.9.3\n",
      "itsdangerous                       2.0.1\n",
      "jdcal                              1.4.1\n",
      "jedi                               0.18.0\n",
      "Jinja2                             2.11.3\n",
      "jinja2-time                        0.2.0\n",
      "joblib                             1.1.0\n",
      "json5                              0.9.6\n",
      "jsonschema                         3.2.0\n",
      "jupyter                            1.0.0\n",
      "jupyter-client                     6.1.12\n",
      "jupyter-console                    6.4.0\n",
      "jupyter-core                       4.8.1\n",
      "jupyter-server                     1.4.1\n",
      "jupyterlab                         3.2.1\n",
      "jupyterlab-pygments                0.1.2\n",
      "jupyterlab-server                  2.8.2\n",
      "jupyterlab-widgets                 1.0.0\n",
      "keyring                            23.1.0\n",
      "kiwisolver                         1.3.1\n",
      "lazy-object-proxy                  1.6.0\n",
      "libarchive-c                       2.9\n",
      "llvmlite                           0.37.0\n",
      "locket                             0.2.1\n",
      "lxml                               4.6.3\n",
      "MarkupSafe                         1.1.1\n",
      "matplotlib                         3.4.3\n",
      "matplotlib-inline                  0.1.2\n",
      "mccabe                             0.6.1\n",
      "menuinst                           1.4.18\n",
      "mistune                            0.8.4\n",
      "mkl-fft                            1.3.1\n",
      "mkl-random                         1.2.2\n",
      "mkl-service                        2.4.0\n",
      "mock                               4.0.3\n",
      "more-itertools                     8.10.0\n",
      "mpmath                             1.2.1\n",
      "msgpack                            1.0.2\n",
      "multipledispatch                   0.6.0\n",
      "munkres                            1.1.4\n",
      "mypy-extensions                    0.4.3\n",
      "navigator-updater                  0.2.1\n",
      "nbclassic                          0.2.6\n",
      "nbclient                           0.5.3\n",
      "nbconvert                          6.1.0\n",
      "nbformat                           5.1.3\n",
      "nest-asyncio                       1.5.1\n",
      "networkx                           2.6.3\n",
      "nltk                               3.6.5\n",
      "nose                               1.3.7\n",
      "notebook                           6.4.5\n",
      "numba                              0.54.1\n",
      "numexpr                            2.7.3\n",
      "numpy                              1.20.3\n",
      "numpydoc                           1.1.0\n",
      "olefile                            0.46\n",
      "openpyxl                           3.0.9\n",
      "packaging                          21.0\n",
      "pandas                             1.3.4\n",
      "pandocfilters                      1.4.3\n",
      "paramiko                           2.7.2\n",
      "parso                              0.8.2\n",
      "partd                              1.2.0\n",
      "path                               16.0.0\n",
      "pathlib2                           2.3.6\n",
      "pathspec                           0.7.0\n",
      "patsy                              0.5.2\n",
      "pep8                               1.7.1\n",
      "pexpect                            4.8.0\n",
      "pickleshare                        0.7.5\n",
      "Pillow                             8.4.0\n",
      "pip                                21.2.4\n",
      "pkginfo                            1.7.1\n",
      "pluggy                             0.13.1\n",
      "ply                                3.11\n",
      "poyo                               0.5.0\n",
      "prometheus-client                  0.11.0\n",
      "prompt-toolkit                     3.0.20\n",
      "psutil                             5.8.0\n",
      "ptyprocess                         0.7.0\n",
      "py                                 1.10.0\n",
      "pycodestyle                        2.7.0\n",
      "pycosat                            0.6.3\n",
      "pycparser                          2.20\n",
      "pycurl                             7.44.1\n",
      "pydocstyle                         6.1.1\n",
      "pyerfa                             2.0.0\n",
      "pyflakes                           2.3.1\n",
      "Pygments                           2.10.0\n",
      "PyJWT                              2.1.0\n",
      "pylint                             2.9.6\n",
      "pyls-spyder                        0.4.0\n",
      "PyNaCl                             1.4.0\n",
      "pyodbc                             4.0.0-unsupported\n",
      "pyOpenSSL                          21.0.0\n",
      "pyparsing                          3.0.4\n",
      "pyreadline                         2.1\n",
      "pyrsistent                         0.18.0\n",
      "PySocks                            1.7.1\n",
      "pytest                             6.2.4\n",
      "python-dateutil                    2.8.2\n",
      "python-lsp-black                   1.0.0\n",
      "python-lsp-jsonrpc                 1.0.0\n",
      "python-lsp-server                  1.2.4\n",
      "python-slugify                     5.0.2\n",
      "pytz                               2021.3\n",
      "Note: you may need to restart the kernel to use updated packages.PyWavelets                         1.1.1\n",
      "\n",
      "pywin32                            228\n",
      "pywin32-ctypes                     0.2.0\n",
      "pywinpty                           0.5.7\n",
      "PyYAML                             6.0\n",
      "pyzmq                              22.2.1\n",
      "QDarkStyle                         3.0.2\n",
      "qstylizer                          0.1.10\n",
      "QtAwesome                          1.0.2\n",
      "qtconsole                          5.1.1\n",
      "QtPy                               1.10.0\n",
      "regex                              2021.8.3\n",
      "requests                           2.26.0\n",
      "rope                               0.19.0\n",
      "Rtree                              0.9.7\n",
      "ruamel-yaml-conda                  0.15.100\n",
      "scikit-image                       0.18.3\n",
      "scikit-learn                       0.24.2\n",
      "scikit-learn-intelex               2021.20210714.120553\n",
      "scipy                              1.7.1\n",
      "seaborn                            0.11.2\n",
      "Send2Trash                         1.8.0\n",
      "setuptools                         58.0.4\n",
      "simplegeneric                      0.8.1\n",
      "singledispatch                     3.7.0\n",
      "sip                                4.19.13\n",
      "six                                1.16.0\n",
      "sniffio                            1.2.0\n",
      "snowballstemmer                    2.1.0\n",
      "sortedcollections                  2.1.0\n",
      "sortedcontainers                   2.4.0\n",
      "soupsieve                          2.2.1\n",
      "Sphinx                             4.2.0\n",
      "sphinxcontrib-applehelp            1.0.2\n",
      "sphinxcontrib-devhelp              1.0.2\n",
      "sphinxcontrib-htmlhelp             2.0.0\n",
      "sphinxcontrib-jsmath               1.0.1\n",
      "sphinxcontrib-qthelp               1.0.3\n",
      "sphinxcontrib-serializinghtml      1.1.5\n",
      "sphinxcontrib-websupport           1.2.4\n",
      "spyder                             5.1.5\n",
      "spyder-kernels                     2.1.3\n",
      "SQLAlchemy                         1.4.22\n",
      "statsmodels                        0.12.2\n",
      "sympy                              1.9\n",
      "tables                             3.6.1\n",
      "TBB                                0.2\n",
      "tblib                              1.7.0\n",
      "terminado                          0.9.4\n",
      "testpath                           0.5.0\n",
      "text-unidecode                     1.3\n",
      "textdistance                       4.2.1\n",
      "threadpoolctl                      2.2.0\n",
      "three-merge                        0.1.1\n",
      "tifffile                           2021.7.2\n",
      "tinycss                            0.4\n",
      "toml                               0.10.2\n",
      "toolz                              0.11.1\n",
      "tornado                            6.1\n",
      "tqdm                               4.62.3\n",
      "traitlets                          5.1.0\n",
      "typed-ast                          1.4.3\n",
      "typing-extensions                  3.10.0.2\n",
      "ujson                              4.0.2\n",
      "unicodecsv                         0.14.1\n",
      "Unidecode                          1.2.0\n",
      "urllib3                            1.26.7\n",
      "watchdog                           2.1.3\n",
      "wcwidth                            0.2.5\n",
      "webencodings                       0.5.1\n",
      "Werkzeug                           2.0.2\n",
      "wget                               3.2\n",
      "wheel                              0.37.0\n",
      "whichcraft                         0.6.1\n",
      "widgetsnbextension                 3.5.1\n",
      "win-inet-pton                      1.1.0\n",
      "win-unicode-console                0.5\n",
      "wincertstore                       0.2\n",
      "wrapt                              1.12.1\n",
      "xlrd                               2.0.1\n",
      "XlsxWriter                         3.0.1\n",
      "xlwings                            0.24.9\n",
      "xlwt                               1.3.0\n",
      "xmltodict                          0.12.0\n",
      "yapf                               0.31.0\n",
      "zict                               2.0.0\n",
      "zipp                               3.6.0\n",
      "zope.event                         4.5.0\n",
      "zope.interface                     5.4.0\n"
     ]
    }
   ],
   "source": [
    "\n",
    "\n",
    "                                                                            pip list "
   ]
  },
  {
   "cell_type": "code",
   "execution_count": 2,
   "id": "751659c6",
   "metadata": {},
   "outputs": [
    {
     "data": {
      "text/plain": [
       "'C:\\\\Users\\\\TKU-STAFF'"
      ]
     },
     "execution_count": 2,
     "metadata": {},
     "output_type": "execute_result"
    }
   ],
   "source": [
    "%pwd"
   ]
  },
  {
   "cell_type": "code",
   "execution_count": 3,
   "id": "1bfb580a",
   "metadata": {},
   "outputs": [
    {
     "name": "stdout",
     "output_type": "stream",
     "text": [
      " 磁碟區 C 中的磁碟沒有標籤。\n",
      " 磁碟區序號:  2F21-0399\n",
      "\n",
      " C:\\Users\\TKU-STAFF 的目錄\n",
      "\n",
      "2023/07/26  上午 09:22    <DIR>          .\n",
      "2023/07/26  上午 09:22    <DIR>          ..\n",
      "2021/02/18  下午 03:07    <DIR>          .anaconda\n",
      "2023/07/26  上午 09:22    <DIR>          .conda\n",
      "2022/02/15  上午 10:38                43 .condarc\n",
      "2022/02/15  上午 10:42    <DIR>          .continuum\n",
      "2023/07/26  上午 09:22    <DIR>          .ipynb_checkpoints\n",
      "2023/07/26  上午 09:20    <DIR>          .ipython\n",
      "2021/03/20  上午 08:17    <DIR>          .VirtualBox\n",
      "2023/07/26  上午 09:22            24,256 0725.ipynb\n",
      "2023/07/26  上午 09:22               588 0726.ipynb\n",
      "2020/08/19  上午 08:41    <DIR>          3D Objects\n",
      "2022/02/15  上午 10:42    <DIR>          anaconda3\n",
      "2020/08/19  上午 08:41    <DIR>          Contacts\n",
      "2022/10/06  上午 08:16    <DIR>          Desktop\n",
      "2022/10/06  上午 08:16    <DIR>          Documents\n",
      "2023/07/26  上午 09:22    <DIR>          Downloads\n",
      "2020/08/19  上午 08:41    <DIR>          Favorites\n",
      "2020/08/17  上午 11:20    <DIR>          Intel\n",
      "2020/08/19  上午 08:41    <DIR>          Links\n",
      "2020/08/19  上午 08:41    <DIR>          Music\n",
      "2021/01/20  上午 10:25    <DIR>          OneDrive\n",
      "2022/09/23  下午 03:36    <DIR>          Pictures\n",
      "2020/08/19  上午 08:41    <DIR>          Saved Games\n",
      "2023/07/26  上午 09:21               378 scores.csv\n",
      "2020/08/19  上午 08:41    <DIR>          Searches\n",
      "2021/01/20  下午 01:11    <DIR>          Videos\n",
      "               4 個檔案          25,265 位元組\n",
      "              23 個目錄  84,147,396,608 位元組可用\n"
     ]
    }
   ],
   "source": [
    "ls"
   ]
  },
  {
   "cell_type": "code",
   "execution_count": 4,
   "id": "78d4c686",
   "metadata": {},
   "outputs": [
    {
     "name": "stdout",
     "output_type": "stream",
     "text": [
      "Requirement already satisfied: wget in c:\\users\\tku-staff\\anaconda3\\lib\\site-packages (3.2)\n",
      "Note: you may need to restart the kernel to use updated packages.\n"
     ]
    }
   ],
   "source": [
    "    pip install wget"
   ]
  },
  {
   "cell_type": "code",
   "execution_count": 5,
   "id": "77e1a619",
   "metadata": {},
   "outputs": [],
   "source": [
    "import wget"
   ]
  },
  {
   "cell_type": "code",
   "execution_count": 6,
   "id": "2cb37166",
   "metadata": {},
   "outputs": [
    {
     "name": "stdout",
     "output_type": "stream",
     "text": [
      "Requirement already satisfied: numpy in c:\\users\\tku-staff\\anaconda3\\lib\\site-packages (1.20.3)\n",
      "Note: you may need to restart the kernel to use updated packages.\n"
     ]
    }
   ],
   "source": [
    "    pip install numpy"
   ]
  },
  {
   "cell_type": "code",
   "execution_count": 7,
   "id": "0d7f1892",
   "metadata": {},
   "outputs": [],
   "source": [
    "import numpy as np"
   ]
  },
  {
   "cell_type": "code",
   "execution_count": 8,
   "id": "fffa1d03",
   "metadata": {},
   "outputs": [
    {
     "name": "stdout",
     "output_type": "stream",
     "text": [
      "(30, 4)\n"
     ]
    }
   ],
   "source": [
    "                                                                                                na=np.genfromtxt('scores.csv',delimiter=',',skip_header=1)\n",
    "print(na.shape)"
   ]
  },
  {
   "cell_type": "code",
   "execution_count": 9,
   "id": "d17040d7",
   "metadata": {},
   "outputs": [
    {
     "data": {
      "text/plain": [
       "array([[ 1., 87., 85., 82.],\n",
       "       [ 2., 92., 87., 90.],\n",
       "       [ 3., 80., 91., 87.],\n",
       "       [ 4., 78., 82., 95.],\n",
       "       [ 5., 88., 89., 90.],\n",
       "       [ 6., 82., 87., 88.],\n",
       "       [ 7., 90., 92., 82.],\n",
       "       [ 8., 87., 80., 90.],\n",
       "       [ 9., 95., 78., 87.],\n",
       "       [10., 90., 88., 95.],\n",
       "       [11., 88., 89., 75.],\n",
       "       [12., 82., 91., 66.],\n",
       "       [13., 90., 82., 87.],\n",
       "       [14., 87., 89., 92.],\n",
       "       [15., 95., 87., 80.],\n",
       "       [16., 90., 92., 78.],\n",
       "       [17., 82., 80., 88.],\n",
       "       [18., 90., 78., 93.],\n",
       "       [19., 67., 87., 95.],\n",
       "       [20., 91., 82., 88.],\n",
       "       [21., 82., 81., 82.],\n",
       "       [22., 79., 87., 90.],\n",
       "       [23., 87., 92., 87.],\n",
       "       [24., 92., 82., 95.],\n",
       "       [25., 80., 90., 78.],\n",
       "       [26., 78., 76., 91.],\n",
       "       [27., 66., 90., 82.],\n",
       "       [28., 89., 77., 89.],\n",
       "       [29., 87., 95., 87.],\n",
       "       [30., 73., 90., 92.]])"
      ]
     },
     "execution_count": 9,
     "metadata": {},
     "output_type": "execute_result"
    }
   ],
   "source": [
    "na"
   ]
  },
  {
   "cell_type": "code",
   "execution_count": 14,
   "id": "d028da22",
   "metadata": {},
   "outputs": [
    {
     "name": "stdout",
     "output_type": "stream",
     "text": [
      "Requirement already satisfied: matplotlib in c:\\users\\tku-staff\\anaconda3\\lib\\site-packages (3.4.3)\n",
      "Requirement already satisfied: kiwisolver>=1.0.1 in c:\\users\\tku-staff\\anaconda3\\lib\\site-packages (from matplotlib) (1.3.1)\n",
      "Requirement already satisfied: pillow>=6.2.0 in c:\\users\\tku-staff\\anaconda3\\lib\\site-packages (from matplotlib) (8.4.0)\n",
      "Requirement already satisfied: python-dateutil>=2.7 in c:\\users\\tku-staff\\anaconda3\\lib\\site-packages (from matplotlib) (2.8.2)\n",
      "Requirement already satisfied: pyparsing>=2.2.1 in c:\\users\\tku-staff\\anaconda3\\lib\\site-packages (from matplotlib) (3.0.4)\n",
      "Requirement already satisfied: numpy>=1.16 in c:\\users\\tku-staff\\anaconda3\\lib\\site-packages (from matplotlib) (1.20.3)\n",
      "Requirement already satisfied: cycler>=0.10 in c:\\users\\tku-staff\\anaconda3\\lib\\site-packages (from matplotlib) (0.10.0)\n",
      "Requirement already satisfied: six in c:\\users\\tku-staff\\anaconda3\\lib\\site-packages (from cycler>=0.10->matplotlib) (1.16.0)\n",
      "Note: you may need to restart the kernel to use updated packages.\n"
     ]
    }
   ],
   "source": [
    "pip install matplotlib"
   ]
  },
  {
   "cell_type": "markdown",
   "id": "a0b2f7d9",
   "metadata": {},
   "source": [
    "# 線性回歸"
   ]
  },
  {
   "cell_type": "code",
   "execution_count": 16,
   "id": "fe894e78",
   "metadata": {},
   "outputs": [],
   "source": [
    "import matplotlib.pyplot as plt"
   ]
  },
  {
   "cell_type": "code",
   "execution_count": 21,
   "id": "1cdc5db9",
   "metadata": {},
   "outputs": [
    {
     "data": {
      "image/png": "[encoded data removed]",
      "text/plain": [
       "<Figure size 432x288 with 1 Axes>"
      ]
     },
     "metadata": {
      "needs_background": "light"
     },
     "output_type": "display_data"
    }
   ],
   "source": [
    "#繪製黃色x標記\n",
    "plt.plot([9,9.5,9.6,7.5,6.7,7],[9.4,9.2,9.2,9.2,7.1,7.4],'yx')\n",
    "plt.plot([9,9.2,9.6,7.5,6.7,7],[9.4,9.2,9.2,9.2,7.1,7.4],'yx')\n",
    "#繪製綠色x標記\n",
    "plt.plot([7.2,7.3,7.2,7.3,7.2,7.3,7.3],[10.3,10.5,9.2,10.2,9.7,10.1,10.1],'gx')\n",
    "plt.plot([6.5,9.0],[7.8,12.5],'b--') #繪製黑色虛線\n",
    "plt.ylabel('H cm') #設定顯示Y文字\n",
    "plt.xlabel('W cm') #設定顯示X文字\n",
    "\n",
    "#繪製圖表\n",
    "plt.legend(('Orange','Lemons'),loc='upper right')\n",
    "plt.show()"
   ]
  },
  {
   "cell_type": "code",
   "execution_count": 22,
   "id": "0ac30ab1",
   "metadata": {},
   "outputs": [
    {
     "name": "stdout",
     "output_type": "stream",
     "text": [
      " 磁碟區 C 中的磁碟沒有標籤。\n",
      " 磁碟區序號:  2F21-0399\n",
      "\n",
      " C:\\Users\\TKU-STAFF 的目錄\n",
      "\n",
      "2023/07/26  上午 09:49    <DIR>          .\n",
      "2023/07/26  上午 09:49    <DIR>          ..\n",
      "2021/02/18  下午 03:07    <DIR>          .anaconda\n",
      "2023/07/26  上午 09:49    <DIR>          .conda\n",
      "2022/02/15  上午 10:38                43 .condarc\n",
      "2022/02/15  上午 10:42    <DIR>          .continuum\n",
      "2023/07/26  上午 09:45    <DIR>          .ipynb_checkpoints\n",
      "2023/07/26  上午 09:20    <DIR>          .ipython\n",
      "2023/07/26  上午 09:29    <DIR>          .matplotlib\n",
      "2021/03/20  上午 08:17    <DIR>          .VirtualBox\n",
      "2020/08/19  上午 08:41    <DIR>          3D Objects\n",
      "2022/02/15  上午 10:42    <DIR>          anaconda3\n",
      "2020/08/19  上午 08:41    <DIR>          Contacts\n",
      "2022/10/06  上午 08:16    <DIR>          Desktop\n",
      "2022/10/06  上午 08:16    <DIR>          Documents\n",
      "2023/07/26  上午 09:22    <DIR>          Downloads\n",
      "2020/08/19  上午 08:41    <DIR>          Favorites\n",
      "2020/08/17  上午 11:20    <DIR>          Intel\n",
      "2020/08/19  上午 08:41    <DIR>          Links\n",
      "2020/08/19  上午 08:41    <DIR>          Music\n",
      "2021/01/20  上午 10:25    <DIR>          OneDrive\n",
      "2022/09/23  下午 03:36    <DIR>          Pictures\n",
      "2020/08/19  上午 08:41    <DIR>          Saved Games\n",
      "2023/07/26  上午 09:21               378 scores.csv\n",
      "2020/08/19  上午 08:41    <DIR>          Searches\n",
      "2023/07/26  上午 09:49    <DIR>          Untitled Folder\n",
      "2021/01/20  下午 01:11    <DIR>          Videos\n",
      "               2 個檔案             421 位元組\n",
      "              25 個目錄  83,136,303,104 位元組可用\n"
     ]
    }
   ],
   "source": [
    "ls"
   ]
  },
  {
   "cell_type": "code",
   "execution_count": 23,
   "id": "b2b45d00",
   "metadata": {},
   "outputs": [
    {
     "data": {
      "image/png": "[encoded data removed]",
      "text/plain": [
       "<Figure size 432x288 with 1 Axes>"
      ]
     },
     "metadata": {
      "needs_background": "light"
     },
     "output_type": "display_data"
    }
   ],
   "source": [
    "plt.plot([1,2,3,4],[0,0.3,0.6,0.9],'gx') #繪圖函式庫\n",
    "plt.plot([1,2,3,4],[0,0.3,0.6,0.9],'r--') #在x=1,y=0 四個位置繪製(g)色x 標記\n",
    "plt.axis([0,5,0,1]) #圖表大小範圍, 寬度由0到5, 高度由0到1\n",
    "plt.xlabel('X') #顯示X文字\n",
    "plt.ylabel('Y') #顯示Y文字\n",
    "plt.legend(('price','passenger'),loc='upper right')\n",
    "plt.show() #繪製圖表"
   ]
  },
  {
   "cell_type": "code",
   "execution_count": 34,
   "id": "88ea37c0",
   "metadata": {
    "scrolled": false
   },
   "outputs": [
    {
     "data": {
      "image/png": "[encoded data removed]",
      "text/plain": [
       "<Figure size 432x288 with 1 Axes>"
      ]
     },
     "metadata": {
      "needs_background": "light"
     },
     "output_type": "display_data"
    }
   ],
   "source": [
    "plt.plot([1,2,3,4],[0,0.3,0.6,0.9],'gx')\n",
    "plt.plot([1,2,3,4],[0,0.3,0.6,0.9],'r--')\n",
    "\n",
    "X=1+np.arange(30)/10\n",
    "delta=np.random.uniform(low=0.1,size=(30,))\n",
    "\n",
    "Y=0.3*X-0.3+delta\n",
    "plt.plot(X,Y,'bo')\n",
    "plt.xlabel('X')\n",
    "plt.ylabel('Y')\n",
    "plt.show()"
   ]
  },
  {
   "cell_type": "markdown",
   "id": "994a8662",
   "metadata": {},
   "source": [
    "# 糖尿病/BMI預測"
   ]
  },
  {
   "cell_type": "code",
   "execution_count": 25,
   "id": "6a408b6c",
   "metadata": {},
   "outputs": [],
   "source": [
    "from sklearn import datasets, linear_model #線性回歸函式庫"
   ]
  },
  {
   "cell_type": "code",
   "execution_count": 26,
   "id": "ffa7f55d",
   "metadata": {},
   "outputs": [],
   "source": [
    "#取得糖尿病的數據\n",
    "diabetes=datasets.load_diabetes()"
   ]
  },
  {
   "cell_type": "code",
   "execution_count": 28,
   "id": "3bfee320",
   "metadata": {},
   "outputs": [],
   "source": [
    "#只取締三個特徵值BMI\n",
    "diabetes_X=diabetes.data[:, np.newaxis, 2]"
   ]
  },
  {
   "cell_type": "code",
   "execution_count": 29,
   "id": "0426017c",
   "metadata": {},
   "outputs": [],
   "source": [
    "#切分特徵值BMI\n",
    "diabetes_X_train=diabetes_X[:-20] #切割0到最後20比特徵給訓練用\n",
    "diabetes_X_test=diabetes_X[-20:] #切割最後20比特徵給訓練用"
   ]
  },
  {
   "cell_type": "code",
   "execution_count": 30,
   "id": "8f3345eb",
   "metadata": {},
   "outputs": [],
   "source": [
    "#切分答案\n",
    "diabetes_y_train=diabetes.target[:-20] #切割0到最後20比答案給訓練用\n",
    "diabetes_y_test=diabetes.target[-20:] #切割最後20比答案給訓練用"
   ]
  },
  {
   "cell_type": "code",
   "execution_count": 45,
   "id": "fd6b600b",
   "metadata": {},
   "outputs": [
    {
     "data": {
      "text/plain": [
       "LinearRegression()"
      ]
     },
     "execution_count": 45,
     "metadata": {},
     "output_type": "execute_result"
    }
   ],
   "source": [
    "#計算\n",
    "regr=linear_model.LinearRegression() #建立線性回歸\n",
    "\n",
    "regr.fit(diabetes_X_train,diabetes_y_train) #訓練"
   ]
  },
  {
   "cell_type": "code",
   "execution_count": 33,
   "id": "500b5ccc",
   "metadata": {},
   "outputs": [
    {
     "name": "stdout",
     "output_type": "stream",
     "text": [
      "CoefficientsL \n",
      " [938.23786125]\n"
     ]
    }
   ],
   "source": [
    "#係數\n",
    "print('CoefficientsL \\n', regr.coef_)"
   ]
  },
  {
   "cell_type": "code",
   "execution_count": 40,
   "id": "17e62de1",
   "metadata": {},
   "outputs": [
    {
     "name": "stdout",
     "output_type": "stream",
     "text": [
      "Mean squared error: 2548.07\n"
     ]
    }
   ],
   "source": [
    "#均方誤差\n",
    "print(\"Mean squared error: %.2f\"\n",
    "     %np.mean((regr.predict(diabetes_X_test)-diabetes_y_test)**2))"
   ]
  },
  {
   "cell_type": "code",
   "execution_count": 41,
   "id": "f8a894b9",
   "metadata": {},
   "outputs": [
    {
     "name": "stdout",
     "output_type": "stream",
     "text": [
      "Variance score: 0.47\n"
     ]
    }
   ],
   "source": [
    "#顯示方差分數:1 是完美預測\n",
    "print('Variance score: %.2f' % regr.score(diabetes_X_test, diabetes_y_test))"
   ]
  },
  {
   "cell_type": "code",
   "execution_count": 43,
   "id": "a52fa328",
   "metadata": {},
   "outputs": [
    {
     "data": {
      "image/png": "[encoded data removed]",
      "text/plain": [
       "<Figure size 432x288 with 1 Axes>"
      ]
     },
     "metadata": {},
     "output_type": "display_data"
    }
   ],
   "source": [
    "#繪圖\n",
    "plt.scatter(diabetes_X_test, diabetes_y_test, color='black') #劃出測試黑點\n",
    "plt.plot(diabetes_X_test, regr.predict(diabetes_X_test), color='blue',\n",
    "         linewidth=3) #劃出測試預測的線性回歸答案\n",
    "\n",
    "plt.xticks(())\n",
    "plt.yticks(())\n",
    "\n",
    "plt.show() #顯示"
   ]
  },
  {
   "cell_type": "markdown",
   "id": "6202c15a",
   "metadata": {},
   "source": [
    "# k-means"
   ]
  },
  {
   "cell_type": "code",
   "execution_count": 51,
   "id": "ba699b0a",
   "metadata": {},
   "outputs": [],
   "source": [
    "from sklearn.model_selection import train_test_split #匯入K-means 函式庫\n",
    "from sklearn.cluster import KMeans\n",
    "from time import time\n",
    "import numpy as np\n",
    "\n",
    "from sklearn import metrics"
   ]
  },
  {
   "cell_type": "code",
   "execution_count": 55,
   "id": "6702c3f3",
   "metadata": {},
   "outputs": [
    {
     "name": "stdout",
     "output_type": "stream",
     "text": [
      "集群中心的座標 [[2.1 2.1]\n",
      " [1.1 1.1]]\n",
      "預測: [1 1 1 0 0 0]\n",
      "實際: [1, 1, 1, 0, 0, 0]\n",
      "預測[1,1],[2.3,2.1]: [1 0]\n"
     ]
    }
   ],
   "source": [
    "X=np.array([[1,1],[1.1,1.1],[1.2,1.2],[2,2],[2.1,2.1],[2.2,2.2]])\n",
    "y=[1,1,1,0,0,0]\n",
    "kmeans=KMeans(n_clusters=2, random_state=0).fit(X) #KMeans演算法 指定2類資料\n",
    "print(\"集群中心的座標\", kmeans.cluster_centers_) #取得集群中心的座標\n",
    "print(\"預測:\",kmeans.predict(X)) #預測\n",
    "print(\"實際:\",y) #真實答案\n",
    "print(\"預測[1,1],[2.3,2.1]:\",kmeans.predict([[1,1],[2.3,2.1]])) #預測資料"
   ]
  },
  {
   "cell_type": "code",
   "execution_count": 56,
   "id": "a480fc0c",
   "metadata": {},
   "outputs": [
    {
     "data": {
      "image/png": "[encoded data removed]",
      "text/plain": [
       "<Figure size 432x288 with 1 Axes>"
      ]
     },
     "metadata": {},
     "output_type": "display_data"
    }
   ],
   "source": [
    "plt.axis([0,3,0,3]) #用圖片顯示\n",
    "plt.plot(X[:3,0], X[:3,1], 'yx') #黃色點\n",
    "plt.plot(X[3:,0], X[3:,1], 'g.') #綠色點\n",
    "plt.plot(kmeans.cluster_centers_[:,0],kmeans.cluster_centers_[:,1], 'ro') #顯示中心座標\n",
    "plt.xticks(())\n",
    "plt.yticks(())\n",
    "plt.show()"
   ]
  },
  {
   "cell_type": "markdown",
   "id": "347cee16",
   "metadata": {},
   "source": [
    "# k-means 鳶尾花"
   ]
  },
  {
   "cell_type": "code",
   "execution_count": 67,
   "id": "bfc9f046",
   "metadata": {},
   "outputs": [
    {
     "name": "stdout",
     "output_type": "stream",
     "text": [
      "實際 [0 0 1 1 2 1 2 0 1 2 2 1 0 2 0 1 1 0 2 0 0 0 0 2 1 2 2 1 2 2 2 1 2 2 1 0 2\n",
      " 2 0 2 0 2 1 2 0 0 0 1 0 2 1 1 0 1 0 1 2 2 2 1 0 2 1 2 0 0 0 2 0 0 1 1 0 2\n",
      " 2 2 2 1 1 1 2 2 2 1 1 2 1 1 1 1 2 0 0 1 0 2 1 2 0 1 0 0 0 1 1 0 1 2 0 2 2\n",
      " 2 1 0 1 2 1 0 0 2]\n",
      "預測 [1 1 0 0 0 0 0 1 0 0 0 0 1 0 1 0 0 1 0 1 1 1 1 0 0 0 0 0 0 0 0 0 0 0 0 1 0\n",
      " 0 1 0 1 0 0 0 1 1 1 1 1 0 0 0 1 0 1 0 0 0 0 0 1 0 0 0 1 1 1 0 1 1 1 0 1 0\n",
      " 0 0 0 0 0 0 0 0 0 0 0 0 0 0 0 0 0 1 1 0 1 0 0 0 1 0 1 1 1 0 0 1 0 0 1 0 0\n",
      " 0 1 1 0 0 0 1 1 0]\n",
      "調整 [1 1 0 0 2 0 2 1 0 2 2 0 1 2 1 0 0 1 2 1 1 1 1 2 0 2 2 0 2 2 2 0 2 2 0 1 2\n",
      " 2 1 2 1 2 0 2 1 1 1 0 1 2 0 0 1 0 1 0 2 2 2 0 1 2 0 2 1 1 1 2 1 1 0 0 1 2\n",
      " 2 2 2 0 0 0 2 2 2 0 0 2 0 0 0 0 2 1 1 0 1 2 0 2 1 0 1 1 1 0 0 1 0 2 1 2 2\n",
      " 2 0 1 0 2 0 1 1 2]\n",
      "準確率:0.6166666666666667\n"
     ]
    }
   ],
   "source": [
    "#取得鳶尾花的資料\n",
    "iris=datasets.load_iris()\n",
    "\n",
    "#拆分資料 80:20，訓練與測試用 2類標籤答案\n",
    "iris_X_train, iris_X_test, iris_y_train, iris_y_test= train_test_split(iris.data,iris.target,test_size=0.2)\n",
    "\n",
    "#KMeans演算法 2類扁千答案\n",
    "kmeans=KMeans(n_clusters=2)\n",
    "kmeans_fit=kmeans.fit(iris_X_train) #訓練。沒有標籤答案\n",
    "\n",
    "print(\"實際\",iris_y_train) #顯示標籤答案\n",
    "print(\"預測\",kmeans_fit.labels_) #顯示預測答案\n",
    "#調整標籤的數字\n",
    "iris_y_train[iris_y_train==1]=11\n",
    "iris_y_train[iris_y_train==0]=1\n",
    "iris_y_train[iris_y_train==11]=0\n",
    "print(\"調整\",iris_y_train) #顯示調整後的預測\n",
    "\n",
    "score=metrics.accuracy_score(iris_y_train,kmeans.predict(iris_X_train))\n",
    "print(\"準確率:{0:}\".format(score)) #顯示準確率"
   ]
  },
  {
   "cell_type": "code",
   "execution_count": 75,
   "id": "a4a862f5",
   "metadata": {},
   "outputs": [
    {
     "data": {
      "image/png": "[encoded data removed]",
      "text/plain": [
       "<Figure size 432x288 with 1 Axes>"
      ]
     },
     "metadata": {
      "needs_background": "light"
     },
     "output_type": "display_data"
    }
   ],
   "source": [
    "#load the diabetes dataset\n",
    "iris=datasets.load_iris()\n",
    "\n",
    "iris_X_train, iris_X_test, iris_y_train, iris_y_test=train_test_split(iris.data,iris.target,test_size=0.2)\n",
    "\n",
    "#KMeans演算法\n",
    "kmeans=KMeans(n_clusters=3)\n",
    "kmeans.fit(iris_X_train)\n",
    "y_predict=kmeans.predict(iris_X_train)\n",
    "\n",
    "x1=iris_X_train[:, 0] #鳶尾花花萼長度\n",
    "y1=iris_X_train[:, 1] #鳶尾花花萼寬度\n",
    "plt.scatter(x1,y1, c=y_predict, cmap='viridis') #畫每一筆的位置\n",
    "\n",
    "centers=kmeans.cluster_centers_ #每個非類的中心點\n",
    "plt.scatter(centers[:, 0], centers[:,1], c='black', s=200, alpha=0.5); #畫出中心點\n",
    "plt.show() #顯示圖片"
   ]
  },
  {
   "cell_type": "code",
   "execution_count": null,
   "id": "d4151f12",
   "metadata": {},
   "outputs": [],
   "source": []
  }
 ],
 "metadata": {
  "kernelspec": {
   "display_name": "Python 3 (ipykernel)",
   "language": "python",
   "name": "python3"
  },
  "language_info": {
   "codemirror_mode": {
    "name": "ipython",
    "version": 3
   },
   "file_extension": ".py",
   "mimetype": "text/x-python",
   "name": "python",
   "nbconvert_exporter": "python",
   "pygments_lexer": "ipython3",
   "version": "3.9.7"
  }
 },
 "nbformat": 4,
 "nbformat_minor": 5
}
